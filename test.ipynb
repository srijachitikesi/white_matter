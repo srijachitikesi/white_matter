{
 "cells": [
  {
   "cell_type": "code",
   "execution_count": 48,
   "metadata": {},
   "outputs": [],
   "source": [
    "import pandas as pd\n",
    "csv_file_path = '/data/users1/schitikesi1/Myresearch/Data_W/merge_data/final_qc_no_y_cleaned.csv'\n",
    "data = pd.read_csv(csv_file_path,index_col='src_subject_id',\n",
    "usecols=['src_subject_id', 'tfmri_nb_all_beh_ctotal_mrt',\n",
    "                                         'tfmri_nb_all_beh_ctotal_stdrt', 'tfmri_nb_all_beh_c0b_rate',\n",
    "                                         'tfmri_nb_all_beh_c2b_rate'])"
   ]
  },
  {
   "cell_type": "code",
   "execution_count": 49,
   "metadata": {},
   "outputs": [
    {
     "data": {
      "text/plain": [
       "8190"
      ]
     },
     "execution_count": 49,
     "metadata": {},
     "output_type": "execute_result"
    }
   ],
   "source": [
    "len(data)"
   ]
  },
  {
   "cell_type": "code",
   "execution_count": 50,
   "metadata": {},
   "outputs": [
    {
     "data": {
      "text/html": [
       "<div>\n",
       "<style scoped>\n",
       "    .dataframe tbody tr th:only-of-type {\n",
       "        vertical-align: middle;\n",
       "    }\n",
       "\n",
       "    .dataframe tbody tr th {\n",
       "        vertical-align: top;\n",
       "    }\n",
       "\n",
       "    .dataframe thead th {\n",
       "        text-align: right;\n",
       "    }\n",
       "</style>\n",
       "<table border=\"1\" class=\"dataframe\">\n",
       "  <thead>\n",
       "    <tr style=\"text-align: right;\">\n",
       "      <th></th>\n",
       "      <th>tfmri_nb_all_beh_ctotal_mrt</th>\n",
       "      <th>tfmri_nb_all_beh_ctotal_stdrt</th>\n",
       "      <th>tfmri_nb_all_beh_c0b_rate</th>\n",
       "      <th>tfmri_nb_all_beh_c2b_rate</th>\n",
       "    </tr>\n",
       "    <tr>\n",
       "      <th>src_subject_id</th>\n",
       "      <th></th>\n",
       "      <th></th>\n",
       "      <th></th>\n",
       "      <th></th>\n",
       "    </tr>\n",
       "  </thead>\n",
       "  <tbody>\n",
       "    <tr>\n",
       "      <th>NDARINV005V6D2C</th>\n",
       "      <td>669.700000</td>\n",
       "      <td>368.208678</td>\n",
       "      <td>0.5750</td>\n",
       "      <td>0.4250</td>\n",
       "    </tr>\n",
       "    <tr>\n",
       "      <th>NDARINV007W6H7B</th>\n",
       "      <td>1128.967105</td>\n",
       "      <td>344.585737</td>\n",
       "      <td>0.9750</td>\n",
       "      <td>0.9250</td>\n",
       "    </tr>\n",
       "    <tr>\n",
       "      <th>NDARINV00CY2MDM</th>\n",
       "      <td>1096.708661</td>\n",
       "      <td>306.517151</td>\n",
       "      <td>0.7000</td>\n",
       "      <td>0.8875</td>\n",
       "    </tr>\n",
       "    <tr>\n",
       "      <th>NDARINV00HEV6HB</th>\n",
       "      <td>1033.232558</td>\n",
       "      <td>347.039207</td>\n",
       "      <td>0.8375</td>\n",
       "      <td>0.7750</td>\n",
       "    </tr>\n",
       "    <tr>\n",
       "      <th>NDARINV00LJVZK2</th>\n",
       "      <td>1033.397436</td>\n",
       "      <td>426.228319</td>\n",
       "      <td>0.6375</td>\n",
       "      <td>0.3375</td>\n",
       "    </tr>\n",
       "    <tr>\n",
       "      <th>...</th>\n",
       "      <td>...</td>\n",
       "      <td>...</td>\n",
       "      <td>...</td>\n",
       "      <td>...</td>\n",
       "    </tr>\n",
       "    <tr>\n",
       "      <th>NDARINVZZNX6W2P</th>\n",
       "      <td>947.223881</td>\n",
       "      <td>295.109579</td>\n",
       "      <td>0.8125</td>\n",
       "      <td>0.8625</td>\n",
       "    </tr>\n",
       "    <tr>\n",
       "      <th>NDARINVZZPKBDAC</th>\n",
       "      <td>907.083916</td>\n",
       "      <td>328.712094</td>\n",
       "      <td>0.9250</td>\n",
       "      <td>0.8625</td>\n",
       "    </tr>\n",
       "    <tr>\n",
       "      <th>NDARINVZZZ2ALR6</th>\n",
       "      <td>925.346939</td>\n",
       "      <td>282.294310</td>\n",
       "      <td>0.9250</td>\n",
       "      <td>0.9125</td>\n",
       "    </tr>\n",
       "    <tr>\n",
       "      <th>NDARINVZZZNB0XC</th>\n",
       "      <td>876.108911</td>\n",
       "      <td>354.870593</td>\n",
       "      <td>0.6875</td>\n",
       "      <td>0.5750</td>\n",
       "    </tr>\n",
       "    <tr>\n",
       "      <th>NDARINVZZZP87KR</th>\n",
       "      <td>1066.732759</td>\n",
       "      <td>265.524366</td>\n",
       "      <td>0.7125</td>\n",
       "      <td>0.7375</td>\n",
       "    </tr>\n",
       "  </tbody>\n",
       "</table>\n",
       "<p>8190 rows × 4 columns</p>\n",
       "</div>"
      ],
      "text/plain": [
       "                 tfmri_nb_all_beh_ctotal_mrt  tfmri_nb_all_beh_ctotal_stdrt  \\\n",
       "src_subject_id                                                                \n",
       "NDARINV005V6D2C                   669.700000                     368.208678   \n",
       "NDARINV007W6H7B                  1128.967105                     344.585737   \n",
       "NDARINV00CY2MDM                  1096.708661                     306.517151   \n",
       "NDARINV00HEV6HB                  1033.232558                     347.039207   \n",
       "NDARINV00LJVZK2                  1033.397436                     426.228319   \n",
       "...                                      ...                            ...   \n",
       "NDARINVZZNX6W2P                   947.223881                     295.109579   \n",
       "NDARINVZZPKBDAC                   907.083916                     328.712094   \n",
       "NDARINVZZZ2ALR6                   925.346939                     282.294310   \n",
       "NDARINVZZZNB0XC                   876.108911                     354.870593   \n",
       "NDARINVZZZP87KR                  1066.732759                     265.524366   \n",
       "\n",
       "                 tfmri_nb_all_beh_c0b_rate  tfmri_nb_all_beh_c2b_rate  \n",
       "src_subject_id                                                         \n",
       "NDARINV005V6D2C                     0.5750                     0.4250  \n",
       "NDARINV007W6H7B                     0.9750                     0.9250  \n",
       "NDARINV00CY2MDM                     0.7000                     0.8875  \n",
       "NDARINV00HEV6HB                     0.8375                     0.7750  \n",
       "NDARINV00LJVZK2                     0.6375                     0.3375  \n",
       "...                                    ...                        ...  \n",
       "NDARINVZZNX6W2P                     0.8125                     0.8625  \n",
       "NDARINVZZPKBDAC                     0.9250                     0.8625  \n",
       "NDARINVZZZ2ALR6                     0.9250                     0.9125  \n",
       "NDARINVZZZNB0XC                     0.6875                     0.5750  \n",
       "NDARINVZZZP87KR                     0.7125                     0.7375  \n",
       "\n",
       "[8190 rows x 4 columns]"
      ]
     },
     "execution_count": 50,
     "metadata": {},
     "output_type": "execute_result"
    }
   ],
   "source": [
    "data"
   ]
  },
  {
   "cell_type": "code",
   "execution_count": 51,
   "metadata": {},
   "outputs": [
    {
     "data": {
      "text/plain": [
       "Index(['NDARINV005V6D2C', 'NDARINV007W6H7B', 'NDARINV00CY2MDM',\n",
       "       'NDARINV00HEV6HB', 'NDARINV00LJVZK2', 'NDARINV00NPMHND',\n",
       "       'NDARINV00R4TXET', 'NDARINV00UMK5VC', 'NDARINV00X2TBWJ',\n",
       "       'NDARINV010ZM3H9',\n",
       "       ...\n",
       "       'NDARINVZZ4XNM65', 'NDARINVZZ6ZJ2KY', 'NDARINVZZ81LEEV',\n",
       "       'NDARINVZZJ3A7BK', 'NDARINVZZLZCKAY', 'NDARINVZZNX6W2P',\n",
       "       'NDARINVZZPKBDAC', 'NDARINVZZZ2ALR6', 'NDARINVZZZNB0XC',\n",
       "       'NDARINVZZZP87KR'],\n",
       "      dtype='object', name='src_subject_id', length=8190)"
      ]
     },
     "execution_count": 51,
     "metadata": {},
     "output_type": "execute_result"
    }
   ],
   "source": [
    "data.index"
   ]
  },
  {
   "cell_type": "code",
   "execution_count": 52,
   "metadata": {},
   "outputs": [
    {
     "data": {
      "text/plain": [
       "'NDARINV0CBPKF6W'"
      ]
     },
     "execution_count": 52,
     "metadata": {},
     "output_type": "execute_result"
    }
   ],
   "source": [
    "data.index[100]"
   ]
  },
  {
   "cell_type": "code",
   "execution_count": 53,
   "metadata": {},
   "outputs": [
    {
     "data": {
      "text/plain": [
       "tfmri_nb_all_beh_ctotal_mrt      669.700000\n",
       "tfmri_nb_all_beh_ctotal_stdrt    368.208678\n",
       "tfmri_nb_all_beh_c0b_rate          0.575000\n",
       "tfmri_nb_all_beh_c2b_rate          0.425000\n",
       "Name: NDARINV005V6D2C, dtype: float64"
      ]
     },
     "execution_count": 53,
     "metadata": {},
     "output_type": "execute_result"
    }
   ],
   "source": [
    "data.iloc[0]"
   ]
  },
  {
   "cell_type": "code",
   "execution_count": 54,
   "metadata": {},
   "outputs": [],
   "source": [
    "import nibabel as nib\n",
    "mask_path = '/data/users1/schitikesi1/Myresearch/mask.nii'\n",
    "mask = nib.load(mask_path).get_fdata()"
   ]
  },
  {
   "cell_type": "code",
   "execution_count": 55,
   "metadata": {},
   "outputs": [
    {
     "data": {
      "text/plain": [
       "(182, 218, 182)"
      ]
     },
     "execution_count": 55,
     "metadata": {},
     "output_type": "execute_result"
    }
   ],
   "source": [
    "mask.shape"
   ]
  },
  {
   "cell_type": "code",
   "execution_count": 56,
   "metadata": {},
   "outputs": [],
   "source": [
    "import os\n",
    "\n",
    "img_path='/data/neuromark2/Data/ABCD/DTI_Data_BIDS/Raw_Data/'\n",
    "subject_dir = os.path.join(img_path, data.index[100])\n",
    "target_file_path = os.path.join(subject_dir, 'Baseline', 'dti', 'dti_FA', 'tbdti32ch_FA.nii.gz')\n"
   ]
  },
  {
   "cell_type": "code",
   "execution_count": 57,
   "metadata": {},
   "outputs": [
    {
     "data": {
      "text/plain": [
       "'/data/neuromark2/Data/ABCD/DTI_Data_BIDS/Raw_Data/NDARINV0CBPKF6W'"
      ]
     },
     "execution_count": 57,
     "metadata": {},
     "output_type": "execute_result"
    }
   ],
   "source": [
    "subject_dir"
   ]
  },
  {
   "cell_type": "code",
   "execution_count": 58,
   "metadata": {},
   "outputs": [
    {
     "data": {
      "text/plain": [
       "'/data/neuromark2/Data/ABCD/DTI_Data_BIDS/Raw_Data/NDARINV0CBPKF6W/Baseline/dti/dti_FA/tbdti32ch_FA.nii.gz'"
      ]
     },
     "execution_count": 58,
     "metadata": {},
     "output_type": "execute_result"
    }
   ],
   "source": [
    "target_file_path"
   ]
  },
  {
   "cell_type": "code",
   "execution_count": 59,
   "metadata": {},
   "outputs": [],
   "source": [
    "img = nib.load(target_file_path).get_fdata()"
   ]
  },
  {
   "cell_type": "code",
   "execution_count": 60,
   "metadata": {},
   "outputs": [
    {
     "data": {
      "text/plain": [
       "(182, 218, 182)"
      ]
     },
     "execution_count": 60,
     "metadata": {},
     "output_type": "execute_result"
    }
   ],
   "source": [
    "img.shape"
   ]
  },
  {
   "cell_type": "code",
   "execution_count": 61,
   "metadata": {},
   "outputs": [],
   "source": [
    "from torch.utils.data.sampler import SubsetRandomSampler\n"
   ]
  },
  {
   "cell_type": "code",
   "execution_count": 62,
   "metadata": {},
   "outputs": [],
   "source": [
    "final = img * mask"
   ]
  },
  {
   "cell_type": "code",
   "execution_count": 63,
   "metadata": {},
   "outputs": [
    {
     "data": {
      "text/plain": [
       "array([[[0., 0., 0., ..., 0., 0., 0.],\n",
       "        [0., 0., 0., ..., 0., 0., 0.],\n",
       "        [0., 0., 0., ..., 0., 0., 0.],\n",
       "        ...,\n",
       "        [0., 0., 0., ..., 0., 0., 0.],\n",
       "        [0., 0., 0., ..., 0., 0., 0.],\n",
       "        [0., 0., 0., ..., 0., 0., 0.]],\n",
       "\n",
       "       [[0., 0., 0., ..., 0., 0., 0.],\n",
       "        [0., 0., 0., ..., 0., 0., 0.],\n",
       "        [0., 0., 0., ..., 0., 0., 0.],\n",
       "        ...,\n",
       "        [0., 0., 0., ..., 0., 0., 0.],\n",
       "        [0., 0., 0., ..., 0., 0., 0.],\n",
       "        [0., 0., 0., ..., 0., 0., 0.]],\n",
       "\n",
       "       [[0., 0., 0., ..., 0., 0., 0.],\n",
       "        [0., 0., 0., ..., 0., 0., 0.],\n",
       "        [0., 0., 0., ..., 0., 0., 0.],\n",
       "        ...,\n",
       "        [0., 0., 0., ..., 0., 0., 0.],\n",
       "        [0., 0., 0., ..., 0., 0., 0.],\n",
       "        [0., 0., 0., ..., 0., 0., 0.]],\n",
       "\n",
       "       ...,\n",
       "\n",
       "       [[0., 0., 0., ..., 0., 0., 0.],\n",
       "        [0., 0., 0., ..., 0., 0., 0.],\n",
       "        [0., 0., 0., ..., 0., 0., 0.],\n",
       "        ...,\n",
       "        [0., 0., 0., ..., 0., 0., 0.],\n",
       "        [0., 0., 0., ..., 0., 0., 0.],\n",
       "        [0., 0., 0., ..., 0., 0., 0.]],\n",
       "\n",
       "       [[0., 0., 0., ..., 0., 0., 0.],\n",
       "        [0., 0., 0., ..., 0., 0., 0.],\n",
       "        [0., 0., 0., ..., 0., 0., 0.],\n",
       "        ...,\n",
       "        [0., 0., 0., ..., 0., 0., 0.],\n",
       "        [0., 0., 0., ..., 0., 0., 0.],\n",
       "        [0., 0., 0., ..., 0., 0., 0.]],\n",
       "\n",
       "       [[0., 0., 0., ..., 0., 0., 0.],\n",
       "        [0., 0., 0., ..., 0., 0., 0.],\n",
       "        [0., 0., 0., ..., 0., 0., 0.],\n",
       "        ...,\n",
       "        [0., 0., 0., ..., 0., 0., 0.],\n",
       "        [0., 0., 0., ..., 0., 0., 0.],\n",
       "        [0., 0., 0., ..., 0., 0., 0.]]])"
      ]
     },
     "execution_count": 63,
     "metadata": {},
     "output_type": "execute_result"
    }
   ],
   "source": [
    "final"
   ]
  },
  {
   "cell_type": "code",
   "execution_count": 64,
   "metadata": {},
   "outputs": [
    {
     "data": {
      "text/plain": [
       "0.0"
      ]
     },
     "execution_count": 64,
     "metadata": {},
     "output_type": "execute_result"
    }
   ],
   "source": [
    "import numpy as np\n",
    "np.min(final)"
   ]
  },
  {
   "cell_type": "code",
   "execution_count": 65,
   "metadata": {},
   "outputs": [
    {
     "data": {
      "text/plain": [
       "0.7786287069320679"
      ]
     },
     "execution_count": 65,
     "metadata": {},
     "output_type": "execute_result"
    }
   ],
   "source": [
    "np.max(final)"
   ]
  },
  {
   "cell_type": "code",
   "execution_count": 69,
   "metadata": {},
   "outputs": [],
   "source": [
    "from cust_dataset import CustomDataset\n",
    "\n",
    "from torchvision import transforms"
   ]
  },
  {
   "cell_type": "code",
   "execution_count": 70,
   "metadata": {},
   "outputs": [
    {
     "ename": "TypeError",
     "evalue": "CustomDataset() takes no arguments",
     "output_type": "error",
     "traceback": [
      "\u001b[0;31m---------------------------------------------------------------------------\u001b[0m",
      "\u001b[0;31mTypeError\u001b[0m                                 Traceback (most recent call last)",
      "\u001b[1;32m/data/users1/schitikesi1/white_matter/test.ipynb Cell 20\u001b[0m line \u001b[0;36m1\n\u001b[0;32m----> <a href='vscode-notebook-cell://ssh-remote%2Barctrdgndev101/data/users1/schitikesi1/white_matter/test.ipynb#X26sdnNjb2RlLXJlbW90ZQ%3D%3D?line=0'>1</a>\u001b[0m train_data \u001b[39m=\u001b[39m CustomDataset(transform \u001b[39m=\u001b[39;49m \n\u001b[1;32m      <a href='vscode-notebook-cell://ssh-remote%2Barctrdgndev101/data/users1/schitikesi1/white_matter/test.ipynb#X26sdnNjb2RlLXJlbW90ZQ%3D%3D?line=1'>2</a>\u001b[0m                         transforms\u001b[39m.\u001b[39;49mCompose([\n\u001b[1;32m      <a href='vscode-notebook-cell://ssh-remote%2Barctrdgndev101/data/users1/schitikesi1/white_matter/test.ipynb#X26sdnNjb2RlLXJlbW90ZQ%3D%3D?line=2'>3</a>\u001b[0m                             transforms\u001b[39m.\u001b[39;49mRandomHorizontalFlip()\n\u001b[1;32m      <a href='vscode-notebook-cell://ssh-remote%2Barctrdgndev101/data/users1/schitikesi1/white_matter/test.ipynb#X26sdnNjb2RlLXJlbW90ZQ%3D%3D?line=3'>4</a>\u001b[0m                             ]),train\u001b[39m=\u001b[39;49m\u001b[39mTrue\u001b[39;49;00m)\n\u001b[1;32m      <a href='vscode-notebook-cell://ssh-remote%2Barctrdgndev101/data/users1/schitikesi1/white_matter/test.ipynb#X26sdnNjb2RlLXJlbW90ZQ%3D%3D?line=5'>6</a>\u001b[0m valid_data \u001b[39m=\u001b[39m CustomDataset(train\u001b[39m=\u001b[39m\u001b[39mFalse\u001b[39;00m,valid\u001b[39m=\u001b[39m\u001b[39mTrue\u001b[39;00m)\n\u001b[1;32m      <a href='vscode-notebook-cell://ssh-remote%2Barctrdgndev101/data/users1/schitikesi1/white_matter/test.ipynb#X26sdnNjb2RlLXJlbW90ZQ%3D%3D?line=7'>8</a>\u001b[0m test_data \u001b[39m=\u001b[39m CustomDataset(train\u001b[39m=\u001b[39m\u001b[39mFalse\u001b[39;00m,valid\u001b[39m=\u001b[39m\u001b[39mFalse\u001b[39;00m)\n",
      "\u001b[0;31mTypeError\u001b[0m: CustomDataset() takes no arguments"
     ]
    }
   ],
   "source": [
    "train_data = CustomDataset(transform = \n",
    "                        transforms.Compose([\n",
    "                            transforms.RandomHorizontalFlip()\n",
    "                            ]),train=True)\n",
    "\n",
    "valid_data = CustomDataset(train=False,valid=True)\n",
    "\n",
    "test_data = CustomDataset(train=False,valid=False)"
   ]
  },
  {
   "cell_type": "code",
   "execution_count": null,
   "metadata": {},
   "outputs": [],
   "source": []
  }
 ],
 "metadata": {
  "kernelspec": {
   "display_name": "Python 3",
   "language": "python",
   "name": "python3"
  },
  "language_info": {
   "codemirror_mode": {
    "name": "ipython",
    "version": 3
   },
   "file_extension": ".py",
   "mimetype": "text/x-python",
   "name": "python",
   "nbconvert_exporter": "python",
   "pygments_lexer": "ipython3",
   "version": "3.11.5"
  },
  "orig_nbformat": 4
 },
 "nbformat": 4,
 "nbformat_minor": 2
}
